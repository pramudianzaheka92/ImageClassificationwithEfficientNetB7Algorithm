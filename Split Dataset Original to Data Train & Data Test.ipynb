{
 "cells": [
  {
   "cell_type": "code",
   "execution_count": 19,
   "id": "dfd6e5b6",
   "metadata": {},
   "outputs": [],
   "source": [
    "# Import library-library yang akan digunakan selama proses pemisahan dataset menjadi data train dan data test\n",
    "import os\n",
    "import pandas as pd\n",
    "from sklearn.model_selection import train_test_split\n",
    "import shutil\n",
    "from tqdm.notebook import tqdm as tq"
   ]
  },
  {
   "cell_type": "code",
   "execution_count": 20,
   "id": "0f60ce12",
   "metadata": {},
   "outputs": [],
   "source": [
    "# Membuat 2 variabel sebagai path dari original dataset dan splitting (pembagian) dataset\n",
    "datasource_path = \"Dataset_Original/\"\n",
    "dataset_path = \"Dataset_Splitting/\""
   ]
  },
  {
   "cell_type": "code",
   "execution_count": 21,
   "id": "95d1c792",
   "metadata": {},
   "outputs": [],
   "source": [
    "mypath = \"Dataset_Original/\"\n",
    "\n",
    "file_name = []\n",
    "tag = []\n",
    "full_path = []\n",
    "for path, subdirs, files in os.walk(mypath):\n",
    "    for name in files:\n",
    "        full_path.append(os.path.join(path, name)) \n",
    "        tag.append(path.split('/')[-1])        \n",
    "        file_name.append(name)"
   ]
  },
  {
   "cell_type": "code",
   "execution_count": 22,
   "id": "3adc61a1",
   "metadata": {},
   "outputs": [
    {
     "data": {
      "text/plain": [
       "tag\n",
       "Bukan_Fundus_Mata    1057\n",
       "Cataract             1038\n",
       "Normal               1074\n",
       "dtype: int64"
      ]
     },
     "execution_count": 22,
     "metadata": {},
     "output_type": "execute_result"
    }
   ],
   "source": [
    "# Memasukan variabel yang sudah dikumpulkan pada looping di atas menjadi sebuah dataframe agar rapih\n",
    "data_split = pd.DataFrame({\"path\":full_path, \"file_name\":file_name, \"tag\":tag})\n",
    "data_split.groupby([\"tag\"]).size()"
   ]
  },
  {
   "cell_type": "code",
   "execution_count": 23,
   "id": "a01743ec",
   "metadata": {},
   "outputs": [
    {
     "data": {
      "text/html": [
       "<div>\n",
       "<style scoped>\n",
       "    .dataframe tbody tr th:only-of-type {\n",
       "        vertical-align: middle;\n",
       "    }\n",
       "\n",
       "    .dataframe tbody tr th {\n",
       "        vertical-align: top;\n",
       "    }\n",
       "\n",
       "    .dataframe thead th {\n",
       "        text-align: right;\n",
       "    }\n",
       "</style>\n",
       "<table border=\"1\" class=\"dataframe\">\n",
       "  <thead>\n",
       "    <tr style=\"text-align: right;\">\n",
       "      <th></th>\n",
       "      <th>path</th>\n",
       "      <th>file_name</th>\n",
       "      <th>tag</th>\n",
       "    </tr>\n",
       "  </thead>\n",
       "  <tbody>\n",
       "    <tr>\n",
       "      <th>0</th>\n",
       "      <td>Dataset_Original/Bukan_Fundus_Mata\\forward_loo...</td>\n",
       "      <td>forward_look (1000).png</td>\n",
       "      <td>Bukan_Fundus_Mata</td>\n",
       "    </tr>\n",
       "    <tr>\n",
       "      <th>1</th>\n",
       "      <td>Dataset_Original/Bukan_Fundus_Mata\\forward_loo...</td>\n",
       "      <td>forward_look (1001).png</td>\n",
       "      <td>Bukan_Fundus_Mata</td>\n",
       "    </tr>\n",
       "    <tr>\n",
       "      <th>2</th>\n",
       "      <td>Dataset_Original/Bukan_Fundus_Mata\\forward_loo...</td>\n",
       "      <td>forward_look (1002).png</td>\n",
       "      <td>Bukan_Fundus_Mata</td>\n",
       "    </tr>\n",
       "    <tr>\n",
       "      <th>3</th>\n",
       "      <td>Dataset_Original/Bukan_Fundus_Mata\\forward_loo...</td>\n",
       "      <td>forward_look (1003).png</td>\n",
       "      <td>Bukan_Fundus_Mata</td>\n",
       "    </tr>\n",
       "    <tr>\n",
       "      <th>4</th>\n",
       "      <td>Dataset_Original/Bukan_Fundus_Mata\\forward_loo...</td>\n",
       "      <td>forward_look (1004).png</td>\n",
       "      <td>Bukan_Fundus_Mata</td>\n",
       "    </tr>\n",
       "  </tbody>\n",
       "</table>\n",
       "</div>"
      ],
      "text/plain": [
       "                                                path                file_name  \\\n",
       "0  Dataset_Original/Bukan_Fundus_Mata\\forward_loo...  forward_look (1000).png   \n",
       "1  Dataset_Original/Bukan_Fundus_Mata\\forward_loo...  forward_look (1001).png   \n",
       "2  Dataset_Original/Bukan_Fundus_Mata\\forward_loo...  forward_look (1002).png   \n",
       "3  Dataset_Original/Bukan_Fundus_Mata\\forward_loo...  forward_look (1003).png   \n",
       "4  Dataset_Original/Bukan_Fundus_Mata\\forward_loo...  forward_look (1004).png   \n",
       "\n",
       "                 tag  \n",
       "0  Bukan_Fundus_Mata  \n",
       "1  Bukan_Fundus_Mata  \n",
       "2  Bukan_Fundus_Mata  \n",
       "3  Bukan_Fundus_Mata  \n",
       "4  Bukan_Fundus_Mata  "
      ]
     },
     "execution_count": 23,
     "metadata": {},
     "output_type": "execute_result"
    }
   ],
   "source": [
    "# Menampilkan 5 data teratas dari variabel dataframe yang bernama \"data_split\"\n",
    "data_split.head()"
   ]
  },
  {
   "cell_type": "code",
   "execution_count": 24,
   "id": "d9f7106c",
   "metadata": {},
   "outputs": [
    {
     "data": {
      "text/html": [
       "<div>\n",
       "<style scoped>\n",
       "    .dataframe tbody tr th:only-of-type {\n",
       "        vertical-align: middle;\n",
       "    }\n",
       "\n",
       "    .dataframe tbody tr th {\n",
       "        vertical-align: top;\n",
       "    }\n",
       "\n",
       "    .dataframe thead th {\n",
       "        text-align: right;\n",
       "    }\n",
       "</style>\n",
       "<table border=\"1\" class=\"dataframe\">\n",
       "  <thead>\n",
       "    <tr style=\"text-align: right;\">\n",
       "      <th></th>\n",
       "      <th>path</th>\n",
       "      <th>file_name</th>\n",
       "      <th>tag</th>\n",
       "    </tr>\n",
       "  </thead>\n",
       "  <tbody>\n",
       "    <tr>\n",
       "      <th>3164</th>\n",
       "      <td>Dataset_Original/Normal\\8_right.jpg</td>\n",
       "      <td>8_right.jpg</td>\n",
       "      <td>Normal</td>\n",
       "    </tr>\n",
       "    <tr>\n",
       "      <th>3165</th>\n",
       "      <td>Dataset_Original/Normal\\939_left.jpg</td>\n",
       "      <td>939_left.jpg</td>\n",
       "      <td>Normal</td>\n",
       "    </tr>\n",
       "    <tr>\n",
       "      <th>3166</th>\n",
       "      <td>Dataset_Original/Normal\\939_right.jpg</td>\n",
       "      <td>939_right.jpg</td>\n",
       "      <td>Normal</td>\n",
       "    </tr>\n",
       "    <tr>\n",
       "      <th>3167</th>\n",
       "      <td>Dataset_Original/Normal\\951_left.jpg</td>\n",
       "      <td>951_left.jpg</td>\n",
       "      <td>Normal</td>\n",
       "    </tr>\n",
       "    <tr>\n",
       "      <th>3168</th>\n",
       "      <td>Dataset_Original/Normal\\951_right.jpg</td>\n",
       "      <td>951_right.jpg</td>\n",
       "      <td>Normal</td>\n",
       "    </tr>\n",
       "  </tbody>\n",
       "</table>\n",
       "</div>"
      ],
      "text/plain": [
       "                                       path      file_name     tag\n",
       "3164    Dataset_Original/Normal\\8_right.jpg    8_right.jpg  Normal\n",
       "3165   Dataset_Original/Normal\\939_left.jpg   939_left.jpg  Normal\n",
       "3166  Dataset_Original/Normal\\939_right.jpg  939_right.jpg  Normal\n",
       "3167   Dataset_Original/Normal\\951_left.jpg   951_left.jpg  Normal\n",
       "3168  Dataset_Original/Normal\\951_right.jpg  951_right.jpg  Normal"
      ]
     },
     "execution_count": 24,
     "metadata": {},
     "output_type": "execute_result"
    }
   ],
   "source": [
    "# Menampilkan 5 data terbawah dari variabel dataframe yang bernama \"data_split\"\n",
    "data_split.tail(5)"
   ]
  },
  {
   "cell_type": "code",
   "execution_count": 25,
   "id": "c378e6ae",
   "metadata": {},
   "outputs": [],
   "source": [
    "# Menginisialisasi 2 variabel(x dan y) yang digunakan pada memisahkan data menjadi 2 bagian yaitu data train dan data test\n",
    "x = data_split[\"path\"]\n",
    "y = data_split[\"tag\"]"
   ]
  },
  {
   "cell_type": "code",
   "execution_count": 26,
   "id": "23d030fc",
   "metadata": {},
   "outputs": [],
   "source": [
    "# Split dataset awal menjadi data train dan test\n",
    "x_train, x_test, y_train, y_test = train_test_split(x, y, test_size=0.3, random_state=30)"
   ]
  },
  {
   "cell_type": "code",
   "execution_count": 27,
   "id": "07c5c805",
   "metadata": {},
   "outputs": [],
   "source": [
    "# Menyatukan ke dalam masing-masing dataframe\n",
    "\n",
    "data_train = pd.DataFrame({\"path\":x_train, \"tag\":y_train, \"set\":\"train\"})\n",
    "\n",
    "data_test = pd.DataFrame({\"path\":x_test, \"tag\":y_test, \"set\":\"test\"})"
   ]
  },
  {
   "cell_type": "code",
   "execution_count": 28,
   "id": "14db19cd",
   "metadata": {},
   "outputs": [
    {
     "name": "stdout",
     "output_type": "stream",
     "text": [
      "train size 2218\n",
      "test size 951\n"
     ]
    }
   ],
   "source": [
    "print(\"train size\", len(data_train))\n",
    "print(\"test size\", len(data_test))"
   ]
  },
  {
   "cell_type": "code",
   "execution_count": 29,
   "id": "6adf2fc5",
   "metadata": {},
   "outputs": [
    {
     "name": "stdout",
     "output_type": "stream",
     "text": [
      "===================================================== \n",
      "\n",
      "set    tag              \n",
      "test   Bukan_Fundus_Mata    303\n",
      "       Cataract             333\n",
      "       Normal               315\n",
      "train  Bukan_Fundus_Mata    754\n",
      "       Cataract             705\n",
      "       Normal               759\n",
      "dtype: int64 \n",
      "\n",
      "===================================================== \n",
      "\n"
     ]
    },
    {
     "name": "stderr",
     "output_type": "stream",
     "text": [
      "C:\\Users\\ekapr\\AppData\\Local\\Temp\\ipykernel_14988\\2327838498.py:2: FutureWarning: The frame.append method is deprecated and will be removed from pandas in a future version. Use pandas.concat instead.\n",
      "  all_dataframe = data_train.append([data_test]).reset_index(drop=1)\\\n"
     ]
    },
    {
     "data": {
      "text/html": [
       "<div>\n",
       "<style scoped>\n",
       "    .dataframe tbody tr th:only-of-type {\n",
       "        vertical-align: middle;\n",
       "    }\n",
       "\n",
       "    .dataframe tbody tr th {\n",
       "        vertical-align: top;\n",
       "    }\n",
       "\n",
       "    .dataframe thead th {\n",
       "        text-align: right;\n",
       "    }\n",
       "</style>\n",
       "<table border=\"1\" class=\"dataframe\">\n",
       "  <thead>\n",
       "    <tr style=\"text-align: right;\">\n",
       "      <th></th>\n",
       "      <th>path</th>\n",
       "      <th>tag</th>\n",
       "      <th>set</th>\n",
       "    </tr>\n",
       "  </thead>\n",
       "  <tbody>\n",
       "    <tr>\n",
       "      <th>2442</th>\n",
       "      <td>Dataset_Original/Normal\\3248_left.jpg</td>\n",
       "      <td>Normal</td>\n",
       "      <td>test</td>\n",
       "    </tr>\n",
       "    <tr>\n",
       "      <th>1322</th>\n",
       "      <td>Dataset_Original/Normal\\3013_right.jpg</td>\n",
       "      <td>Normal</td>\n",
       "      <td>train</td>\n",
       "    </tr>\n",
       "    <tr>\n",
       "      <th>20</th>\n",
       "      <td>Dataset_Original/Cataract\\2182_right.jpg</td>\n",
       "      <td>Cataract</td>\n",
       "      <td>train</td>\n",
       "    </tr>\n",
       "  </tbody>\n",
       "</table>\n",
       "</div>"
      ],
      "text/plain": [
       "                                          path       tag    set\n",
       "2442     Dataset_Original/Normal\\3248_left.jpg    Normal   test\n",
       "1322    Dataset_Original/Normal\\3013_right.jpg    Normal  train\n",
       "20    Dataset_Original/Cataract\\2182_right.jpg  Cataract  train"
      ]
     },
     "execution_count": 29,
     "metadata": {},
     "output_type": "execute_result"
    }
   ],
   "source": [
    "# Melihat proporsi pada masing masing set apakah sudah ok atau masih ada yang ingin diubah\n",
    "all_dataframe = data_train.append([data_test]).reset_index(drop=1)\\\n",
    "\n",
    "print(\"===================================================== \\n\")\n",
    "print(all_dataframe.groupby([\"set\", \"tag\"]).size(), \"\\n\")\n",
    "\n",
    "print(\"===================================================== \\n\")\n",
    "\n",
    "# Cek sample datanya\n",
    "all_dataframe.sample(3)"
   ]
  },
  {
   "cell_type": "code",
   "execution_count": 30,
   "id": "3b60753c",
   "metadata": {},
   "outputs": [
    {
     "data": {
      "application/vnd.jupyter.widget-view+json": {
       "model_id": "8d076bc84c1f4a50adc86b8d01ae8983",
       "version_major": 2,
       "version_minor": 0
      },
      "text/plain": [
       "0it [00:00, ?it/s]"
      ]
     },
     "metadata": {},
     "output_type": "display_data"
    }
   ],
   "source": [
    "for index, row in tq(all_dataframe.iterrows()):\n",
    "    \n",
    "    # Detect filepath\n",
    "    file_path = row['path']\n",
    "    if os.path.exists(file_path) == False:\n",
    "            file_path = os.path.join(datasource_path, row[\"tag\"], row[\"image\"].split(\".\")[0])            \n",
    "    \n",
    "    # Make folder destination dirs\n",
    "    if os.path.exists(os.path.join(dataset_path, row[\"set\"], row[\"tag\"])) == False:\n",
    "        os.makedirs(os.path.join(dataset_path, row[\"set\"], row[\"tag\"]))\n",
    "    \n",
    "    # Define file dest\n",
    "    destination_file_name = file_path.split(\"\\\\\")[-1]\n",
    "    file_dest = os.path.join(dataset_path, row[\"set\"], row[\"tag\"], destination_file_name)\n",
    "    \n",
    "    # Copy file from source to dest\n",
    "    if os.path.exists(file_dest) == False:\n",
    "        shutil.copy2(file_path, file_dest)"
   ]
  },
  {
   "cell_type": "code",
   "execution_count": null,
   "id": "4994a4a4",
   "metadata": {},
   "outputs": [],
   "source": []
  }
 ],
 "metadata": {
  "kernelspec": {
   "display_name": "Python 3 (ipykernel)",
   "language": "python",
   "name": "python3"
  },
  "language_info": {
   "codemirror_mode": {
    "name": "ipython",
    "version": 3
   },
   "file_extension": ".py",
   "mimetype": "text/x-python",
   "name": "python",
   "nbconvert_exporter": "python",
   "pygments_lexer": "ipython3",
   "version": "3.9.12"
  }
 },
 "nbformat": 4,
 "nbformat_minor": 5
}

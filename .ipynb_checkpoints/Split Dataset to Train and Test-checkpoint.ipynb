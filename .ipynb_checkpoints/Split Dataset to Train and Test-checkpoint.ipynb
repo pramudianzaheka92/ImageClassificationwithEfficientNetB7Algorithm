{
 "cells": [
  {
   "cell_type": "code",
   "execution_count": 34,
   "id": "dfd6e5b6",
   "metadata": {},
   "outputs": [],
   "source": [
    "import os\n",
    "import pandas as pd\n",
    "from sklearn.model_selection import train_test_split\n",
    "import shutil\n",
    "from tqdm.notebook import tqdm as tq"
   ]
  },
  {
   "cell_type": "code",
   "execution_count": 35,
   "id": "0f60ce12",
   "metadata": {},
   "outputs": [],
   "source": [
    "datasource_path = \"Dataset dengan 2 Label (Katarak dan Normal)/\"\n",
    "dataset_path = \"dataset_split/\""
   ]
  },
  {
   "cell_type": "code",
   "execution_count": 36,
   "id": "95d1c792",
   "metadata": {},
   "outputs": [],
   "source": [
    "mypath = \"Dataset dengan 2 Label (Katarak dan Normal)/\"\n",
    "\n",
    "file_name = []\n",
    "tag = []\n",
    "full_path = []\n",
    "for path, subdirs, files in os.walk(mypath):\n",
    "    for name in files:\n",
    "        full_path.append(os.path.join(path, name)) \n",
    "        tag.append(path.split('/')[-1])        \n",
    "        file_name.append(name)"
   ]
  },
  {
   "cell_type": "code",
   "execution_count": 37,
   "id": "3adc61a1",
   "metadata": {},
   "outputs": [
    {
     "data": {
      "text/plain": [
       "tag\n",
       "Cataract    1038\n",
       "Normal      1074\n",
       "dtype: int64"
      ]
     },
     "execution_count": 37,
     "metadata": {},
     "output_type": "execute_result"
    }
   ],
   "source": [
    "# memasukan variabel yang sudah dikumpulkan pada looping di atas menjadi sebuah dataframe agar rapih\n",
    "df = pd.DataFrame({\"path\":full_path, \"file_name\":file_name, \"tag\":tag})\n",
    "df.groupby([\"tag\"]).size()\n"
   ]
  },
  {
   "cell_type": "code",
   "execution_count": 38,
   "id": "a01743ec",
   "metadata": {},
   "outputs": [
    {
     "data": {
      "text/html": [
       "<div>\n",
       "<style scoped>\n",
       "    .dataframe tbody tr th:only-of-type {\n",
       "        vertical-align: middle;\n",
       "    }\n",
       "\n",
       "    .dataframe tbody tr th {\n",
       "        vertical-align: top;\n",
       "    }\n",
       "\n",
       "    .dataframe thead th {\n",
       "        text-align: right;\n",
       "    }\n",
       "</style>\n",
       "<table border=\"1\" class=\"dataframe\">\n",
       "  <thead>\n",
       "    <tr style=\"text-align: right;\">\n",
       "      <th></th>\n",
       "      <th>path</th>\n",
       "      <th>file_name</th>\n",
       "      <th>tag</th>\n",
       "    </tr>\n",
       "  </thead>\n",
       "  <tbody>\n",
       "    <tr>\n",
       "      <th>0</th>\n",
       "      <td>Dataset dengan 2 Label (Katarak dan Normal)/Ca...</td>\n",
       "      <td>0_left.jpg</td>\n",
       "      <td>Cataract</td>\n",
       "    </tr>\n",
       "    <tr>\n",
       "      <th>1</th>\n",
       "      <td>Dataset dengan 2 Label (Katarak dan Normal)/Ca...</td>\n",
       "      <td>103_left.jpg</td>\n",
       "      <td>Cataract</td>\n",
       "    </tr>\n",
       "    <tr>\n",
       "      <th>2</th>\n",
       "      <td>Dataset dengan 2 Label (Katarak dan Normal)/Ca...</td>\n",
       "      <td>1062_right.jpg</td>\n",
       "      <td>Cataract</td>\n",
       "    </tr>\n",
       "    <tr>\n",
       "      <th>3</th>\n",
       "      <td>Dataset dengan 2 Label (Katarak dan Normal)/Ca...</td>\n",
       "      <td>1083_left.jpg</td>\n",
       "      <td>Cataract</td>\n",
       "    </tr>\n",
       "    <tr>\n",
       "      <th>4</th>\n",
       "      <td>Dataset dengan 2 Label (Katarak dan Normal)/Ca...</td>\n",
       "      <td>1084_right.jpg</td>\n",
       "      <td>Cataract</td>\n",
       "    </tr>\n",
       "  </tbody>\n",
       "</table>\n",
       "</div>"
      ],
      "text/plain": [
       "                                                path       file_name       tag\n",
       "0  Dataset dengan 2 Label (Katarak dan Normal)/Ca...      0_left.jpg  Cataract\n",
       "1  Dataset dengan 2 Label (Katarak dan Normal)/Ca...    103_left.jpg  Cataract\n",
       "2  Dataset dengan 2 Label (Katarak dan Normal)/Ca...  1062_right.jpg  Cataract\n",
       "3  Dataset dengan 2 Label (Katarak dan Normal)/Ca...   1083_left.jpg  Cataract\n",
       "4  Dataset dengan 2 Label (Katarak dan Normal)/Ca...  1084_right.jpg  Cataract"
      ]
     },
     "execution_count": 38,
     "metadata": {},
     "output_type": "execute_result"
    }
   ],
   "source": [
    "df.head()"
   ]
  },
  {
   "cell_type": "code",
   "execution_count": 39,
   "id": "c378e6ae",
   "metadata": {},
   "outputs": [],
   "source": [
    "#variabel yang digunakan pada pemisahan data ini\n",
    "x = df[\"path\"]\n",
    "y = df[\"tag\"]"
   ]
  },
  {
   "cell_type": "code",
   "execution_count": 40,
   "id": "23d030fc",
   "metadata": {},
   "outputs": [],
   "source": [
    "# split dataset awal menjadi data train dan test\n",
    "x_train, x_test, y_train, y_test = train_test_split(x, y, test_size=0.3, random_state=30)"
   ]
  },
  {
   "cell_type": "code",
   "execution_count": 41,
   "id": "07c5c805",
   "metadata": {},
   "outputs": [],
   "source": [
    "# menyatukan kedalam masing-masing dataframe\n",
    "\n",
    "df_tr = pd.DataFrame({\"path\":x_train, \"tag\":y_train, \"set\":\"train\"})\n",
    "\n",
    "df_te = pd.DataFrame({\"path\":x_test, \"tag\":y_test, \"set\":\"test\"})"
   ]
  },
  {
   "cell_type": "code",
   "execution_count": 42,
   "id": "14db19cd",
   "metadata": {},
   "outputs": [
    {
     "name": "stdout",
     "output_type": "stream",
     "text": [
      "train size 1478\n",
      "test size 634\n"
     ]
    }
   ],
   "source": [
    "print(\"train size\", len(df_tr))\n",
    "print(\"test size\", len(df_te))"
   ]
  },
  {
   "cell_type": "code",
   "execution_count": 43,
   "id": "e8592533",
   "metadata": {},
   "outputs": [
    {
     "name": "stdout",
     "output_type": "stream",
     "text": [
      "===================================================== \n",
      "\n",
      "set    tag     \n",
      "test   Cataract    303\n",
      "       Normal      331\n",
      "train  Cataract    735\n",
      "       Normal      743\n",
      "dtype: int64 \n",
      "\n",
      "===================================================== \n",
      "\n"
     ]
    },
    {
     "name": "stderr",
     "output_type": "stream",
     "text": [
      "C:\\Users\\ekapr\\AppData\\Local\\Temp\\ipykernel_3584\\542158301.py:2: FutureWarning: The frame.append method is deprecated and will be removed from pandas in a future version. Use pandas.concat instead.\n",
      "  df_all = df_tr.append([df_te]).reset_index(drop=1)\\\n"
     ]
    },
    {
     "data": {
      "text/html": [
       "<div>\n",
       "<style scoped>\n",
       "    .dataframe tbody tr th:only-of-type {\n",
       "        vertical-align: middle;\n",
       "    }\n",
       "\n",
       "    .dataframe tbody tr th {\n",
       "        vertical-align: top;\n",
       "    }\n",
       "\n",
       "    .dataframe thead th {\n",
       "        text-align: right;\n",
       "    }\n",
       "</style>\n",
       "<table border=\"1\" class=\"dataframe\">\n",
       "  <thead>\n",
       "    <tr style=\"text-align: right;\">\n",
       "      <th></th>\n",
       "      <th>path</th>\n",
       "      <th>tag</th>\n",
       "      <th>set</th>\n",
       "    </tr>\n",
       "  </thead>\n",
       "  <tbody>\n",
       "    <tr>\n",
       "      <th>1391</th>\n",
       "      <td>Dataset dengan 2 Label (Katarak dan Normal)/Ca...</td>\n",
       "      <td>Cataract</td>\n",
       "      <td>train</td>\n",
       "    </tr>\n",
       "    <tr>\n",
       "      <th>187</th>\n",
       "      <td>Dataset dengan 2 Label (Katarak dan Normal)/Ca...</td>\n",
       "      <td>Cataract</td>\n",
       "      <td>train</td>\n",
       "    </tr>\n",
       "    <tr>\n",
       "      <th>1838</th>\n",
       "      <td>Dataset dengan 2 Label (Katarak dan Normal)/No...</td>\n",
       "      <td>Normal</td>\n",
       "      <td>test</td>\n",
       "    </tr>\n",
       "  </tbody>\n",
       "</table>\n",
       "</div>"
      ],
      "text/plain": [
       "                                                   path       tag    set\n",
       "1391  Dataset dengan 2 Label (Katarak dan Normal)/Ca...  Cataract  train\n",
       "187   Dataset dengan 2 Label (Katarak dan Normal)/Ca...  Cataract  train\n",
       "1838  Dataset dengan 2 Label (Katarak dan Normal)/No...    Normal   test"
      ]
     },
     "execution_count": 43,
     "metadata": {},
     "output_type": "execute_result"
    }
   ],
   "source": [
    "# melihat proporsi pada masing masing set apakah sudah ok atau masih ada yang ingin diubah\n",
    "df_all = df_tr.append([df_te]).reset_index(drop=1)\\\n",
    "\n",
    "print(\"===================================================== \\n\")\n",
    "print(df_all.groupby([\"set\", \"tag\"]).size(), \"\\n\")\n",
    "\n",
    "print(\"===================================================== \\n\")\n",
    "\n",
    "#cek sample datanya\n",
    "df_all.sample(3)"
   ]
  },
  {
   "cell_type": "code",
   "execution_count": null,
   "id": "8901f17a",
   "metadata": {},
   "outputs": [
    {
     "data": {
      "application/vnd.jupyter.widget-view+json": {
       "model_id": "1cad4fa9254840729d1ff56038c6624c",
       "version_major": 2,
       "version_minor": 0
      },
      "text/plain": [
       "0it [00:00, ?it/s]"
      ]
     },
     "metadata": {},
     "output_type": "display_data"
    }
   ],
   "source": [
    "for index, row in tq(df_all.iterrows()):\n",
    "    \n",
    "    #detect filepath\n",
    "    file_path = row['path']\n",
    "    if os.path.exists(file_path) == False:\n",
    "            file_path = os.path.join(datasource_path,row['tag'],row['image'].split('.')[0])            \n",
    "    \n",
    "    #make folder destination dirs\n",
    "    if os.path.exists(os.path.join(dataset_path,row['set'],row['tag'])) == False:\n",
    "        os.makedirs(os.path.join(dataset_path,row['set'],row['tag']))\n",
    "    \n",
    "    #define file dest\n",
    "    destination_file_name = file_path.split('/')[-1]\n",
    "    file_dest = os.path.join(dataset_path,row['set'],row['tag'],destination_file_name)\n",
    "    \n",
    "    #copy file from source to dest\n",
    "    if os.path.exists(file_dest) == False:\n",
    "        shutil.copy2(file_path,file_dest)\n"
   ]
  },
  {
   "cell_type": "code",
   "execution_count": null,
   "id": "63c55ea8",
   "metadata": {},
   "outputs": [],
   "source": []
  }
 ],
 "metadata": {
  "kernelspec": {
   "display_name": "Python 3 (ipykernel)",
   "language": "python",
   "name": "python3"
  },
  "language_info": {
   "codemirror_mode": {
    "name": "ipython",
    "version": 3
   },
   "file_extension": ".py",
   "mimetype": "text/x-python",
   "name": "python",
   "nbconvert_exporter": "python",
   "pygments_lexer": "ipython3",
   "version": "3.9.12"
  }
 },
 "nbformat": 4,
 "nbformat_minor": 5
}

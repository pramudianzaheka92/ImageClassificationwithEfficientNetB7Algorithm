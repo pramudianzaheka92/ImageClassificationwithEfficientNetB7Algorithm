{
 "cells": [
  {
   "cell_type": "markdown",
   "id": "b06285d8",
   "metadata": {},
   "source": [
    "## 1. Import Library, Load Dataset & Exploration Images from 2 Categories"
   ]
  },
  {
   "cell_type": "code",
   "execution_count": 7,
   "id": "f02bf309",
   "metadata": {},
   "outputs": [],
   "source": [
    "# Meng-import library-library yang akan dibutuhkan selama proses eksperimen\n",
    "import pandas as pd\n",
    "import seaborn as sns\n",
    "import matplotlib.pyplot as plt\n",
    "plt.style.use(\"seaborn\")\n",
    "import numpy as np\n",
    "import tensorflow as tf\n",
    "from PIL import Image\n",
    "from tensorflow import keras\n",
    "from glob import glob\n",
    "from keras.optimizers import SGD, Adam, RMSprop, Adadelta, Adagrad, Adamax, Nadam, Ftrl\n",
    "from keras.layers import Dense, Dropout, Flatten\n",
    "from tensorflow.keras.models import Sequential"
   ]
  },
  {
   "cell_type": "code",
   "execution_count": 8,
   "id": "fcb10478",
   "metadata": {},
   "outputs": [],
   "source": [
    "# Memanggil semua data gambar dari 2 label gambar yang berbeda di dalam folder Dataset dengan 2 Label (Katarak dan Normal)\n",
    "cataract_label_image = \"Dataset dengan 2 Label (Katarak dan Normal)/Cataract\"\n",
    "normal_label_image = \"Dataset dengan 2 Label (Katarak dan Normal)/Normal\""
   ]
  },
  {
   "cell_type": "code",
   "execution_count": 9,
   "id": "5616d2c6",
   "metadata": {},
   "outputs": [],
   "source": [
    "\"\"\"\n",
    "Memanggil semua data gambar dengan seluruh format gambar yang tersedia yaitu seperti .png/.jpg/.jpeg, dll\n",
    "di dalam kedua label DataFrame yang menampung data-data gambar, baik itu gambar mata katarak atau mata normal\n",
    "\"\"\"\n",
    "# Data gambar mata manusia yang terkena penyakit katarak\n",
    "cataract_images = glob(cataract_label_image + \"/*\")\n",
    "\n",
    "# Data gambar mata manusia dengan kategori/label mata normal\n",
    "normal_images = glob(normal_label_image + \"/*\")"
   ]
  },
  {
   "cell_type": "code",
   "execution_count": null,
   "id": "dbfa62ba",
   "metadata": {},
   "outputs": [],
   "source": []
  }
 ],
 "metadata": {
  "kernelspec": {
   "display_name": "Python 3 (ipykernel)",
   "language": "python",
   "name": "python3"
  },
  "language_info": {
   "codemirror_mode": {
    "name": "ipython",
    "version": 3
   },
   "file_extension": ".py",
   "mimetype": "text/x-python",
   "name": "python",
   "nbconvert_exporter": "python",
   "pygments_lexer": "ipython3",
   "version": "3.9.12"
  }
 },
 "nbformat": 4,
 "nbformat_minor": 5
}
